{
 "cells": [
  {
   "cell_type": "code",
   "execution_count": null,
   "id": "b6b967b4",
   "metadata": {
    "vscode": {
     "languageId": "plaintext"
    }
   },
   "outputs": [],
   "source": [
    "import pandas as pd\n",
    "import pickle\n",
    "\n",
    "# Load the trained model\n",
    "model = pickle.load(open('LinearRegression.pkl', 'rb'))\n",
    "\n",
    "# Example input data\n",
    "input_data = pd.DataFrame([['Honda', 'City', '1.3 i-VTEC', 2014, 1300, 'Local', 10000, 'Islamabad', 'Manual']],\n",
    "                          columns=['Make', 'Model', 'Version', 'Make_Year', 'CC', 'Assembly', 'Mileage', 'Registered City', 'Transmission'])\n",
    "\n",
    "# Predict the price\n",
    "car_price = model.predict(input_data)\n",
    "print(\"Car Price is:\", int(car_price[0]), \"PKR\")"
   ]
  }
 ],
 "metadata": {
  "kernelspec": {
   "display_name": "Python 3 (ipykernel)",
   "language": "python",
   "name": "python3"
  },
  "language_info": {
   "codemirror_mode": {
    "name": "ipython",
    "version": 3
   },
   "file_extension": ".py",
   "mimetype": "text/x-python",
   "name": "python",
   "nbconvert_exporter": "python",
   "pygments_lexer": "ipython3",
   "version": "3.9.12"
  }
 },
 "nbformat": 4,
 "nbformat_minor": 5
}
