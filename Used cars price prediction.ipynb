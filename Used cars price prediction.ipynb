{
 "cells": [
  {
   "cell_type": "code",
   "execution_count": 445,
   "id": "0daed512",
   "metadata": {},
   "outputs": [
    {
     "data": {
      "text/html": [
       "<div>\n",
       "<style scoped>\n",
       "    .dataframe tbody tr th:only-of-type {\n",
       "        vertical-align: middle;\n",
       "    }\n",
       "\n",
       "    .dataframe tbody tr th {\n",
       "        vertical-align: top;\n",
       "    }\n",
       "\n",
       "    .dataframe thead th {\n",
       "        text-align: right;\n",
       "    }\n",
       "</style>\n",
       "<table border=\"1\" class=\"dataframe\">\n",
       "  <thead>\n",
       "    <tr style=\"text-align: right;\">\n",
       "      <th></th>\n",
       "      <th>Make</th>\n",
       "      <th>Model</th>\n",
       "      <th>Version</th>\n",
       "      <th>Price</th>\n",
       "      <th>Make_Year</th>\n",
       "      <th>CC</th>\n",
       "      <th>Assembly</th>\n",
       "      <th>Mileage</th>\n",
       "      <th>Registered City</th>\n",
       "      <th>Transmission</th>\n",
       "    </tr>\n",
       "  </thead>\n",
       "  <tbody>\n",
       "    <tr>\n",
       "      <th>0</th>\n",
       "      <td>Mitsubishi</td>\n",
       "      <td>Minica</td>\n",
       "      <td>Black Minica</td>\n",
       "      <td>1065000</td>\n",
       "      <td>2019</td>\n",
       "      <td>660</td>\n",
       "      <td>Imported</td>\n",
       "      <td>68000</td>\n",
       "      <td>Lahore</td>\n",
       "      <td>Automatic</td>\n",
       "    </tr>\n",
       "    <tr>\n",
       "      <th>1</th>\n",
       "      <td>Audi</td>\n",
       "      <td>A6</td>\n",
       "      <td>1.8 TFSI Business Class Edition</td>\n",
       "      <td>9300000</td>\n",
       "      <td>2015</td>\n",
       "      <td>1800</td>\n",
       "      <td>Local</td>\n",
       "      <td>70000</td>\n",
       "      <td>Lahore</td>\n",
       "      <td>Automatic</td>\n",
       "    </tr>\n",
       "    <tr>\n",
       "      <th>2</th>\n",
       "      <td>Toyota</td>\n",
       "      <td>Aqua</td>\n",
       "      <td>G</td>\n",
       "      <td>2375000</td>\n",
       "      <td>2014</td>\n",
       "      <td>1500</td>\n",
       "      <td>Imported</td>\n",
       "      <td>99900</td>\n",
       "      <td>Islamabad</td>\n",
       "      <td>Automatic</td>\n",
       "    </tr>\n",
       "    <tr>\n",
       "      <th>3</th>\n",
       "      <td>Honda</td>\n",
       "      <td>City</td>\n",
       "      <td>1.3 i-VTEC</td>\n",
       "      <td>2600000</td>\n",
       "      <td>2017</td>\n",
       "      <td>1300</td>\n",
       "      <td>Local</td>\n",
       "      <td>55000</td>\n",
       "      <td>Islamabad</td>\n",
       "      <td>Manual</td>\n",
       "    </tr>\n",
       "    <tr>\n",
       "      <th>4</th>\n",
       "      <td>Toyota</td>\n",
       "      <td>Corolla</td>\n",
       "      <td>GLi Automatic 1.3 VVTi</td>\n",
       "      <td>2500000</td>\n",
       "      <td>2017</td>\n",
       "      <td>1300</td>\n",
       "      <td>Local</td>\n",
       "      <td>80000</td>\n",
       "      <td>Lahore</td>\n",
       "      <td>Automatic</td>\n",
       "    </tr>\n",
       "  </tbody>\n",
       "</table>\n",
       "</div>"
      ],
      "text/plain": [
       "         Make    Model                          Version    Price  Make_Year  \\\n",
       "0  Mitsubishi   Minica                     Black Minica  1065000       2019   \n",
       "1        Audi       A6  1.8 TFSI Business Class Edition  9300000       2015   \n",
       "2      Toyota     Aqua                                G  2375000       2014   \n",
       "3       Honda     City                       1.3 i-VTEC  2600000       2017   \n",
       "4      Toyota  Corolla           GLi Automatic 1.3 VVTi  2500000       2017   \n",
       "\n",
       "     CC  Assembly  Mileage Registered City Transmission  \n",
       "0   660  Imported    68000          Lahore    Automatic  \n",
       "1  1800     Local    70000          Lahore    Automatic  \n",
       "2  1500  Imported    99900       Islamabad    Automatic  \n",
       "3  1300     Local    55000       Islamabad       Manual  \n",
       "4  1300     Local    80000          Lahore    Automatic  "
      ]
     },
     "execution_count": 445,
     "metadata": {},
     "output_type": "execute_result"
    }
   ],
   "source": [
    "import pandas as pd\n",
    "data = pd.read_csv(\"Car Data.csv\")\n",
    "data.head()"
   ]
  },
  {
   "cell_type": "code",
   "execution_count": 446,
   "id": "29545868",
   "metadata": {},
   "outputs": [],
   "source": [
    "#Model\n",
    "X = data.drop(columns = 'Price')\n",
    "y = data['Price']"
   ]
  },
  {
   "cell_type": "code",
   "execution_count": 447,
   "id": "3d5ea3ee",
   "metadata": {},
   "outputs": [],
   "source": [
    "from sklearn.model_selection import train_test_split\n",
    "X_train, X_test, y_train, y_test = train_test_split(X, y, test_size = 0.2)"
   ]
  },
  {
   "cell_type": "code",
   "execution_count": 448,
   "id": "0bb5d315",
   "metadata": {},
   "outputs": [],
   "source": [
    "#Importing Linear Regression.\n",
    "from sklearn.linear_model import LinearRegression\n",
    "\n",
    "# Importing r2 score for measuring regression problems.\n",
    "from sklearn.metrics import r2_score\n",
    "\n",
    "# Using One Hot Encoder for encoding categorical features as a one-hot numeric array.\n",
    "from sklearn.preprocessing import OneHotEncoder\n",
    "\n",
    "#For transforming columns we will use column transformer.\n",
    "from sklearn.compose import make_column_transformer\n",
    "\n",
    "#In pipeline we will send raw data from one side and take predictions from other side.\n",
    "from sklearn.pipeline import make_pipeline"
   ]
  },
  {
   "cell_type": "code",
   "execution_count": 449,
   "id": "2a3acb71",
   "metadata": {},
   "outputs": [
    {
     "data": {
      "text/plain": [
       "OneHotEncoder()"
      ]
     },
     "execution_count": 449,
     "metadata": {},
     "output_type": "execute_result"
    }
   ],
   "source": [
    "#Making object of One Hot Encoder.\n",
    "ohe = OneHotEncoder()\n",
    "#Encoding categorical features as a one-hot numeric array.\n",
    "ohe.fit(X[['Make', 'Model', 'Version', 'Assembly', 'Registered City', 'Transmission']])"
   ]
  },
  {
   "cell_type": "code",
   "execution_count": 450,
   "id": "4ef3d74b",
   "metadata": {},
   "outputs": [],
   "source": [
    "#Transforming columns.\n",
    "column_trans = make_column_transformer((OneHotEncoder(categories=ohe.categories_)\n",
    "        , ['Make', 'Model', 'Version', 'Assembly', 'Registered City', 'Transmission'])\n",
    "                                       , remainder = 'passthrough')"
   ]
  },
  {
   "cell_type": "code",
   "execution_count": 451,
   "id": "432d8de3",
   "metadata": {},
   "outputs": [],
   "source": [
    "#Making object of linear regression.\n",
    "lr = LinearRegression()"
   ]
  },
  {
   "cell_type": "code",
   "execution_count": 452,
   "id": "98bd6059",
   "metadata": {},
   "outputs": [],
   "source": [
    "#Making a pipeline\n",
    "pipe = make_pipeline(column_trans, lr)\n",
    "#This pipeline will give transformed columns +  previous columns to linear regression model."
   ]
  },
  {
   "cell_type": "code",
   "execution_count": 453,
   "id": "e61fe771",
   "metadata": {},
   "outputs": [
    {
     "data": {
      "text/plain": [
       "Pipeline(steps=[('columntransformer',\n",
       "                 ColumnTransformer(remainder='passthrough',\n",
       "                                   transformers=[('onehotencoder',\n",
       "                                                  OneHotEncoder(categories=[array(['Audi', 'BMW', 'Cadillac', 'Changan', 'Chery', 'Chevrolet',\n",
       "       'Chrysler', 'DFSK', 'Daehan', 'Daewoo', 'Daihatsu', 'Datsun',\n",
       "       'FAW', 'Fiat', 'Ford', 'Golden', 'Hino', 'Honda', 'Hummer',\n",
       "       'Hyundai', 'Isuzu', 'JAC', 'JMC', 'JW', 'Jaguar',...\n",
       "       'Tandiliyawala', 'Tando Allah Yar', 'Tando Muhammad Khan',\n",
       "       'Taxila', 'Thatta', 'Toba Tek Singh', 'Umer Kot', 'Un-Registered',\n",
       "       'Vehari', 'Wah cantt', 'Warburton', 'Wazirabad', 'Yazman mandi',\n",
       "       'Zafarwal'], dtype=object),\n",
       "                                                                            array(['Automatic', 'Manual'], dtype=object)]),\n",
       "                                                  ['Make', 'Model', 'Version',\n",
       "                                                   'Assembly',\n",
       "                                                   'Registered City',\n",
       "                                                   'Transmission'])])),\n",
       "                ('linearregression', LinearRegression())])"
      ]
     },
     "execution_count": 453,
     "metadata": {},
     "output_type": "execute_result"
    }
   ],
   "source": [
    "pipe.fit(X_train, y_train)"
   ]
  },
  {
   "cell_type": "code",
   "execution_count": 454,
   "id": "3d36ff83",
   "metadata": {},
   "outputs": [
    {
     "data": {
      "text/plain": [
       "array([ 981586.48593491, 3745959.79155192, 2232525.86681619, ...,\n",
       "       2446126.51242256,  114330.56865865,  428798.67711052])"
      ]
     },
     "execution_count": 454,
     "metadata": {},
     "output_type": "execute_result"
    }
   ],
   "source": [
    "#Predicting what the r2 score is.\n",
    "y_pred = pipe.predict(X_test)\n",
    "y_pred"
   ]
  },
  {
   "cell_type": "code",
   "execution_count": 455,
   "id": "167892c0",
   "metadata": {},
   "outputs": [
    {
     "data": {
      "text/plain": [
       "0.9081363287597034"
      ]
     },
     "execution_count": 455,
     "metadata": {},
     "output_type": "execute_result"
    }
   ],
   "source": [
    "#Predicting what the r2 score is.\n",
    "r2_score(y_test,y_pred)"
   ]
  },
  {
   "cell_type": "code",
   "execution_count": 456,
   "id": "c8925af6",
   "metadata": {},
   "outputs": [],
   "source": [
    "#Import pickle library. We will use it to save the structure of our pipeline to a file.\n",
    "import pickle"
   ]
  },
  {
   "cell_type": "code",
   "execution_count": 457,
   "id": "4eab0448",
   "metadata": {},
   "outputs": [],
   "source": [
    "#Saving our pipeline to a file.\n",
    "pickle.dump(pipe, open('LinearRegression.pkl', 'wb'))"
   ]
  },
  {
   "cell_type": "code",
   "execution_count": 458,
   "id": "37589798",
   "metadata": {},
   "outputs": [],
   "source": [
    "car_price = pipe.predict(pd.DataFrame([['Honda', 'City', '1.3 i-VTEC', 2014, \n",
    "                                        1300, 'Local', 10000, 'Islamabad', 'Manual']]\n",
    "    , columns = ['Make', 'Model', 'Version', 'Make_Year', 'CC', 'Assembly', 'Mileage', 'Registered City', 'Transmission']))"
   ]
  },
  {
   "cell_type": "code",
   "execution_count": 460,
   "id": "90cb5688",
   "metadata": {
    "scrolled": true
   },
   "outputs": [
    {
     "name": "stdout",
     "output_type": "stream",
     "text": [
      "Car Price is:  1936276 PKR\n"
     ]
    }
   ],
   "source": [
    "#Printing Output\n",
    "print(\"Car Price is: \", int(car_price[0]), \"PKR\")"
   ]
  }
 ],
 "metadata": {
  "kernelspec": {
   "display_name": "Python 3 (ipykernel)",
   "language": "python",
   "name": "python3"
  },
  "language_info": {
   "codemirror_mode": {
    "name": "ipython",
    "version": 3
   },
   "file_extension": ".py",
   "mimetype": "text/x-python",
   "name": "python",
   "nbconvert_exporter": "python",
   "pygments_lexer": "ipython3",
   "version": "3.9.12"
  }
 },
 "nbformat": 4,
 "nbformat_minor": 5
}
